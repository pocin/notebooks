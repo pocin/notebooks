{
 "cells": [
  {
   "cell_type": "code",
   "execution_count": 63,
   "metadata": {
    "collapsed": false
   },
   "outputs": [],
   "source": [
    "import facebook\n",
    "import re\n",
    "import json\n",
    "import pandas as pd\n",
    "import matplotlib.pyplot as plt\n",
    "%matplotlib inline\n",
    "from ipywidgets import interact\n",
    "plt.style.use('ggplot')"
   ]
  },
  {
   "cell_type": "markdown",
   "metadata": {},
   "source": [
    "# Jak jsem si ucast v tipovaci soutezi ulehcil (ale stejne nevyhral :( )\n",
    "Na facebooku byla soutez u jednoho Brnenskeho burger baru \"Kdo uhadne kolik vazi megaburger, ma ho zadarmo\"  \n",
    "Pritelkyne navrhla scraping (\"umis vzit vsechny komentare a podivat se ktere cisla uz nekdo hadal?\"), tak jsem se do toho pustil.  \n",
    "Dostupne informace:\n",
    "\n",
    "- fotka (viz nize) \n",
    "- burger vazi aspon 1500g (na instagramu se objevila fotka s podobnym kouskem, ze mel kilo a pul\n",
    "- Oficialni sdeleni, ze nekteri lidi byli hoodne blizko, ale nikdo to netrefil presne. V tento okamzik jsem do souteze nastoupil ja a zbyvalo 12 h\n",
    "\n",
    "<h1 id=\"tocheading\">Obsah</h1>\n",
    "<div id=\"toc\"></div>\n"
   ]
  },
  {
   "cell_type": "code",
   "execution_count": 95,
   "metadata": {
    "collapsed": false
   },
   "outputs": [
    {
     "data": {
      "application/javascript": [
       "$.getScript('https://kmahelona.github.io/ipython_notebook_goodies/ipython_notebook_toc.js')"
      ],
      "text/plain": [
       "<IPython.core.display.Javascript object>"
      ]
     },
     "metadata": {},
     "output_type": "display_data"
    }
   ],
   "source": [
    "%%javascript\n",
    "$.getScript('https://kmahelona.github.io/ipython_notebook_goodies/ipython_notebook_toc.js')\n"
   ]
  },
  {
   "cell_type": "code",
   "execution_count": 87,
   "metadata": {
    "collapsed": false
   },
   "outputs": [
    {
     "data": {
      "text/html": [
       "<img src=\"https://fbcdn-sphotos-d-a.akamaihd.net/hphotos-ak-xfp1/v/t1.0-9/s720x720/11937436_10153731730577147_3428897361406359533_n.jpg?oh=b58677ec726b0be8a1acec5624390086&oe=56A47D53&__gda__=1453313706_71353993e92c3932e9d19432bf140e94\"/>"
      ],
      "text/plain": [
       "<IPython.core.display.Image object>"
      ]
     },
     "execution_count": 87,
     "metadata": {},
     "output_type": "execute_result"
    }
   ],
   "source": [
    "from IPython.display import Image\n",
    "Image(url='https://fbcdn-sphotos-d-a.akamaihd.net/hphotos-ak-xfp1/v/t1.0-9/s720x720/11937436_10153731730577147_3428897361406359533_n.jpg?oh=b58677ec726b0be8a1acec5624390086&oe=56A47D53&__gda__=1453313706_71353993e92c3932e9d19432bf140e94')"
   ]
  },
  {
   "cell_type": "markdown",
   "metadata": {},
   "source": [
    "## Ziskat data\n",
    "### Facebook api stuff\n",
    "api_token se da ziskat [zde](https://developers.facebook.com/tools/explorer/), pokud by si to chtel nekdo vyzkouset"
   ]
  },
  {
   "cell_type": "code",
   "execution_count": 3,
   "metadata": {
    "collapsed": true
   },
   "outputs": [],
   "source": [
    "my_user_token = 'CAACEdEose0cBAMc8icVJ0lZBvR6bURMZBHgyL2VmmZAf8ZC0al9hyUOysD7pPbLB8mN0dJMaOpxsZAzmcocFnArqnZBzsEewqxuBXiswRTOIRZA0LgLwXYEZBOs18O5LqAhiZBv9iRuxZChyx15Vkz2SC42FUNr9F8BZBpqLnZBMzKGuJCO4YT5WFQrkDLEbCcIHcLKoZAHa0QqZAXzUHLurfsPzhh'\n",
    "escobar = '108593382146_10153731730577147/comments'\n",
    "g = facebook.GraphAPI(access_token=my_user_token)"
   ]
  },
  {
   "cell_type": "markdown",
   "metadata": {},
   "source": [
    "V dobe psani tam bylo lehce pod 2000 komentaru\n"
   ]
  },
  {
   "cell_type": "code",
   "execution_count": 4,
   "metadata": {
    "collapsed": false
   },
   "outputs": [],
   "source": [
    "comments = g.get_object(escobar, limit=2000)\n"
   ]
  },
  {
   "cell_type": "markdown",
   "metadata": {},
   "source": [
    "### Zkouska dat\n",
    "Vetsina zaznamu se vyskytuje ve formatu [cislo]G/g"
   ]
  },
  {
   "cell_type": "code",
   "execution_count": 5,
   "metadata": {
    "collapsed": false
   },
   "outputs": [
    {
     "data": {
      "text/plain": [
       "2000"
      ]
     },
     "execution_count": 5,
     "metadata": {},
     "output_type": "execute_result"
    }
   ],
   "source": [
    "len(comments['data'])"
   ]
  },
  {
   "cell_type": "code",
   "execution_count": 7,
   "metadata": {
    "collapsed": false,
    "scrolled": true
   },
   "outputs": [
    {
     "name": "stdout",
     "output_type": "stream",
     "text": [
      "1,2 kg\n",
      "1387 gramů.\n",
      "1670g\n",
      "1439g\n",
      "555g :)\n",
      "950g\n",
      "800g\n",
      "850 g\n",
      "513g\n",
      "1650g\n"
     ]
    }
   ],
   "source": [
    "for c in comments['data'][:10]:\n",
    "    print c['message']\n"
   ]
  },
  {
   "cell_type": "markdown",
   "metadata": {},
   "source": [
    "Ulozit data pro pripadne pozdejsi pouziti, protoze jak jsem pozdeji zjistil, facebook_api_key vydrzi asi tak hodinku"
   ]
  },
  {
   "cell_type": "code",
   "execution_count": 9,
   "metadata": {
    "collapsed": true
   },
   "outputs": [],
   "source": [
    "with open(\"escobar_comments.json\", 'wb') as f:\n",
    "    f.write(json.dumps(comments))"
   ]
  },
  {
   "cell_type": "code",
   "execution_count": 12,
   "metadata": {
    "collapsed": true
   },
   "outputs": [],
   "source": [
    "messages = [c['message'] for c in comments['data']]"
   ]
  },
  {
   "cell_type": "markdown",
   "metadata": {},
   "source": [
    "## Vybrat z komentaru hodnoty gramaze + vycistit data\n",
    "zachyti vsechny cisla z komentu i ve formatu napr.:\n",
    "- 1.246kg\n",
    "- 1234 g\n",
    "- 1 234g\n",
    "- 1.123456g\n",
    "\n",
    "urcite by se dalo vymyslet robustnejsi reseni, ale pro tyto ucely by to mohlo stacit\n"
   ]
  },
  {
   "cell_type": "code",
   "execution_count": 13,
   "metadata": {
    "collapsed": false
   },
   "outputs": [],
   "source": [
    "def parse_comment(comment):\n",
    "    return re.findall(r'\\d+', comment, flags=re.IGNORECASE)"
   ]
  },
  {
   "cell_type": "code",
   "execution_count": 14,
   "metadata": {
    "collapsed": false
   },
   "outputs": [
    {
     "name": "stdout",
     "output_type": "stream",
     "text": [
      "Celkem mame: 2000 zaznamu\n"
     ]
    }
   ],
   "source": [
    "print \"Celkem mame: {} zaznamu\".format(len(messages))"
   ]
  },
  {
   "cell_type": "code",
   "execution_count": 81,
   "metadata": {
    "collapsed": false
   },
   "outputs": [
    {
     "name": "stdout",
     "output_type": "stream",
     "text": [
      "['1', '234']\n",
      "['1234']\n",
      "['1234']\n",
      "['1', '234']\n",
      "['1', '23454631234']\n"
     ]
    }
   ],
   "source": [
    "#maly test\n",
    "print parse_comment('1 234g')\n",
    "print parse_comment('1234g')\n",
    "print parse_comment('1234')\n",
    "print parse_comment('1.234 kg')\n",
    "print parse_comment(\"1.23454631234\")"
   ]
  },
  {
   "cell_type": "code",
   "execution_count": 16,
   "metadata": {
    "collapsed": false
   },
   "outputs": [],
   "source": [
    "#bude list of lists\n",
    "vals = [parse_comment(x['message']) for x in comments['data']]"
   ]
  },
  {
   "cell_type": "code",
   "execution_count": 17,
   "metadata": {
    "collapsed": false,
    "scrolled": true
   },
   "outputs": [
    {
     "data": {
      "text/plain": [
       "[[u'1', u'2'], [u'1387'], [u'1670']]"
      ]
     },
     "execution_count": 17,
     "metadata": {},
     "output_type": "execute_result"
    }
   ],
   "source": [
    "vals[:3]"
   ]
  },
  {
   "cell_type": "markdown",
   "metadata": {},
   "source": [
    "tim ze vezmeme pouze prvni 4 cisla, tak zjistime hmotnost v gramech. Neni to presne, ale ve vetsine pripadu to bude fungovat (pokud ma cislo aspon 4 cisla). Urcite to nezachyti 1.2kg atp"
   ]
  },
  {
   "cell_type": "code",
   "execution_count": 20,
   "metadata": {
    "collapsed": false
   },
   "outputs": [],
   "source": [
    "# joined_vals = [\"\".join(n) for n in vals]\n",
    "joined_vals4 = [\"\".join(n)[:4] for n in vals]"
   ]
  },
  {
   "cell_type": "code",
   "execution_count": 21,
   "metadata": {
    "collapsed": false
   },
   "outputs": [
    {
     "data": {
      "text/plain": [
       "2000"
      ]
     },
     "execution_count": 21,
     "metadata": {},
     "output_type": "execute_result"
    }
   ],
   "source": [
    "len(joined_vals4)"
   ]
  },
  {
   "cell_type": "code",
   "execution_count": 22,
   "metadata": {
    "collapsed": false
   },
   "outputs": [
    {
     "data": {
      "text/plain": [
       "['',\n",
       " '',\n",
       " '',\n",
       " '',\n",
       " '',\n",
       " '',\n",
       " '',\n",
       " '',\n",
       " '',\n",
       " '',\n",
       " '',\n",
       " '',\n",
       " '',\n",
       " '',\n",
       " '',\n",
       " '',\n",
       " '',\n",
       " '',\n",
       " '',\n",
       " '']"
      ]
     },
     "execution_count": 22,
     "metadata": {},
     "output_type": "execute_result"
    }
   ],
   "source": [
    "joined_vals4.sort()\n",
    "joined_vals4[:20]"
   ]
  },
  {
   "cell_type": "code",
   "execution_count": 23,
   "metadata": {
    "collapsed": false,
    "scrolled": true
   },
   "outputs": [
    {
     "name": "stdout",
     "output_type": "stream",
     "text": [
      "1972\n"
     ]
    },
    {
     "data": {
      "text/plain": [
       "[u'0730',\n",
       " u'1',\n",
       " u'1',\n",
       " u'1',\n",
       " u'1',\n",
       " u'1',\n",
       " u'1',\n",
       " u'1',\n",
       " u'1',\n",
       " u'1',\n",
       " u'1',\n",
       " u'1000',\n",
       " u'1000',\n",
       " u'1000',\n",
       " u'1000',\n",
       " u'1000',\n",
       " u'1000',\n",
       " u'1000',\n",
       " u'1000',\n",
       " u'1000']"
      ]
     },
     "execution_count": 23,
     "metadata": {},
     "output_type": "execute_result"
    }
   ],
   "source": [
    "joined_vals4 = [x for x in joined_vals4 if x != \"\"]\n",
    "print len(joined_vals4)\n",
    "joined_vals4[:20]\n",
    "\n"
   ]
  },
  {
   "cell_type": "code",
   "execution_count": 24,
   "metadata": {
    "collapsed": false
   },
   "outputs": [
    {
     "name": "stdout",
     "output_type": "stream",
     "text": [
      "1971\n"
     ]
    },
    {
     "data": {
      "text/plain": [
       "[1,\n",
       " 1,\n",
       " 1,\n",
       " 1,\n",
       " 1,\n",
       " 1,\n",
       " 1,\n",
       " 1,\n",
       " 1,\n",
       " 1,\n",
       " 1000,\n",
       " 1000,\n",
       " 1000,\n",
       " 1000,\n",
       " 1000,\n",
       " 1000,\n",
       " 1000,\n",
       " 1000,\n",
       " 1000,\n",
       " 1000]"
      ]
     },
     "execution_count": 24,
     "metadata": {},
     "output_type": "execute_result"
    }
   ],
   "source": [
    "joined_vals4 = [int(x) for x in joined_vals4 if not x.startswith('0')]\n",
    "print len(joined_vals4)\n",
    "joined_vals4[:20]"
   ]
  },
  {
   "cell_type": "code",
   "execution_count": 27,
   "metadata": {
    "collapsed": false
   },
   "outputs": [
    {
     "name": "stdout",
     "output_type": "stream",
     "text": [
      "Nejmensi hodnota: 1\n",
      "Nejvetsi hodnota: 9991\n",
      "Pocet zaznamu   : 1971\n",
      "Pocet unikatnich zaznamu: 861\n"
     ]
    }
   ],
   "source": [
    "print \"Nejmensi hodnota: {}\".format(min(joined_vals4))\n",
    "print \"Nejvetsi hodnota: {}\".format(max(joined_vals4))\n",
    "print \"Pocet zaznamu   : {}\".format(len(joined_vals4))\n",
    "print \"Pocet unikatnich zaznamu: {}\".format(len(set(joined_vals4)))"
   ]
  },
  {
   "cell_type": "code",
   "execution_count": 28,
   "metadata": {
    "collapsed": false
   },
   "outputs": [],
   "source": [
    "def get_unique_numbers(a=1500,b=2000):\n",
    "    vysledek = sorted(set(range(a,b)) - set(joined_vals4))\n",
    "    print \"Mezi {} a {} je {} dosud nehadanych cisel:\\n\".format(a,b,len(vysledek))\n",
    "    for i in vysledek:\n",
    "        print i"
   ]
  },
  {
   "cell_type": "markdown",
   "metadata": {},
   "source": [
    "# Vysledky"
   ]
  },
  {
   "cell_type": "code",
   "execution_count": 84,
   "metadata": {
    "collapsed": false,
    "scrolled": true
   },
   "outputs": [
    {
     "name": "stdout",
     "output_type": "stream",
     "text": [
      "Mezi 1940 a 2000 je 43 dosud nehadanych cisel:\n",
      "\n",
      "1940\n",
      "1942\n",
      "1943\n",
      "1944\n",
      "1946\n",
      "1951\n",
      "1952\n",
      "1953\n",
      "1954\n",
      "1956\n",
      "1957\n",
      "1958\n",
      "1959\n",
      "1960\n",
      "1961\n",
      "1962\n",
      "1963\n",
      "1964\n",
      "1965\n",
      "1966\n",
      "1967\n",
      "1968\n",
      "1970\n",
      "1971\n",
      "1972\n",
      "1973\n",
      "1974\n",
      "1975\n",
      "1976\n",
      "1977\n",
      "1978\n",
      "1979\n",
      "1981\n",
      "1982\n",
      "1988\n",
      "1989\n",
      "1991\n",
      "1992\n",
      "1994\n",
      "1995\n",
      "1996\n",
      "1997\n",
      "1998\n"
     ]
    },
    {
     "data": {
      "text/plain": [
       "None"
      ]
     },
     "metadata": {},
     "output_type": "display_data"
    }
   ],
   "source": [
    "#Nefunguje v nbviewer.ipython.org,\n",
    "#ale jinak vyhodi interaktivni posuvniky ktere nam daji ktere cisla nebyly tipovany v danem rozmezi\n",
    "interact(get_unique_numbers)"
   ]
  },
  {
   "cell_type": "markdown",
   "metadata": {},
   "source": [
    "# Pandas to the rescue!\n",
    "Pouzito: [Pandas](http://pandas.pydata.org/)  \n",
    "Cas na prozkoumani trendu a nejake obrazky"
   ]
  },
  {
   "cell_type": "code",
   "execution_count": 48,
   "metadata": {
    "collapsed": false
   },
   "outputs": [
    {
     "data": {
      "text/html": [
       "<div>\n",
       "<table border=\"1\" class=\"dataframe\">\n",
       "  <thead>\n",
       "    <tr style=\"text-align: right;\">\n",
       "      <th></th>\n",
       "      <th>hodnota</th>\n",
       "    </tr>\n",
       "  </thead>\n",
       "  <tbody>\n",
       "    <tr>\n",
       "      <th>1970</th>\n",
       "      <td>9991</td>\n",
       "    </tr>\n",
       "    <tr>\n",
       "      <th>1882</th>\n",
       "      <td>9515</td>\n",
       "    </tr>\n",
       "    <tr>\n",
       "      <th>1802</th>\n",
       "      <td>9134</td>\n",
       "    </tr>\n",
       "    <tr>\n",
       "      <th>1790</th>\n",
       "      <td>9001</td>\n",
       "    </tr>\n",
       "    <tr>\n",
       "      <th>1770</th>\n",
       "      <td>8963</td>\n",
       "    </tr>\n",
       "  </tbody>\n",
       "</table>\n",
       "</div>"
      ],
      "text/plain": [
       "      hodnota\n",
       "1970     9991\n",
       "1882     9515\n",
       "1802     9134\n",
       "1790     9001\n",
       "1770     8963"
      ]
     },
     "execution_count": 48,
     "metadata": {},
     "output_type": "execute_result"
    }
   ],
   "source": [
    "data = pd.DataFrame({\"hodnota\":joined_vals4})\n",
    "data.sort('hodnota', ascending=False).head()"
   ]
  },
  {
   "cell_type": "code",
   "execution_count": 49,
   "metadata": {
    "collapsed": false
   },
   "outputs": [
    {
     "data": {
      "text/html": [
       "<div>\n",
       "<table border=\"1\" class=\"dataframe\">\n",
       "  <thead>\n",
       "    <tr style=\"text-align: right;\">\n",
       "      <th></th>\n",
       "      <th>hodnota</th>\n",
       "    </tr>\n",
       "  </thead>\n",
       "  <tbody>\n",
       "    <tr>\n",
       "      <th>count</th>\n",
       "      <td>1971.000000</td>\n",
       "    </tr>\n",
       "    <tr>\n",
       "      <th>mean</th>\n",
       "      <td>1247.712329</td>\n",
       "    </tr>\n",
       "    <tr>\n",
       "      <th>std</th>\n",
       "      <td>767.130975</td>\n",
       "    </tr>\n",
       "    <tr>\n",
       "      <th>min</th>\n",
       "      <td>1.000000</td>\n",
       "    </tr>\n",
       "    <tr>\n",
       "      <th>25%</th>\n",
       "      <td>840.000000</td>\n",
       "    </tr>\n",
       "    <tr>\n",
       "      <th>50%</th>\n",
       "      <td>1172.000000</td>\n",
       "    </tr>\n",
       "    <tr>\n",
       "      <th>75%</th>\n",
       "      <td>1531.500000</td>\n",
       "    </tr>\n",
       "    <tr>\n",
       "      <th>max</th>\n",
       "      <td>9991.000000</td>\n",
       "    </tr>\n",
       "  </tbody>\n",
       "</table>\n",
       "</div>"
      ],
      "text/plain": [
       "           hodnota\n",
       "count  1971.000000\n",
       "mean   1247.712329\n",
       "std     767.130975\n",
       "min       1.000000\n",
       "25%     840.000000\n",
       "50%    1172.000000\n",
       "75%    1531.500000\n",
       "max    9991.000000"
      ]
     },
     "execution_count": 49,
     "metadata": {},
     "output_type": "execute_result"
    }
   ],
   "source": [
    "data.describe()"
   ]
  },
  {
   "cell_type": "markdown",
   "metadata": {},
   "source": [
    "## Cetnosti jednotlivych odpovedi"
   ]
  },
  {
   "cell_type": "code",
   "execution_count": 53,
   "metadata": {
    "collapsed": false
   },
   "outputs": [
    {
     "data": {
      "text/html": [
       "<div>\n",
       "<table border=\"1\" class=\"dataframe\">\n",
       "  <thead>\n",
       "    <tr style=\"text-align: right;\">\n",
       "      <th></th>\n",
       "      <th>cetnost</th>\n",
       "    </tr>\n",
       "    <tr>\n",
       "      <th>hodnota</th>\n",
       "      <th></th>\n",
       "    </tr>\n",
       "  </thead>\n",
       "  <tbody>\n",
       "    <tr>\n",
       "      <th>1500</th>\n",
       "      <td>40</td>\n",
       "    </tr>\n",
       "    <tr>\n",
       "      <th>1200</th>\n",
       "      <td>33</td>\n",
       "    </tr>\n",
       "    <tr>\n",
       "      <th>850</th>\n",
       "      <td>29</td>\n",
       "    </tr>\n",
       "    <tr>\n",
       "      <th>1250</th>\n",
       "      <td>28</td>\n",
       "    </tr>\n",
       "    <tr>\n",
       "      <th>750</th>\n",
       "      <td>26</td>\n",
       "    </tr>\n",
       "  </tbody>\n",
       "</table>\n",
       "</div>"
      ],
      "text/plain": [
       "         cetnost\n",
       "hodnota         \n",
       "1500          40\n",
       "1200          33\n",
       "850           29\n",
       "1250          28\n",
       "750           26"
      ]
     },
     "execution_count": 53,
     "metadata": {},
     "output_type": "execute_result"
    }
   ],
   "source": [
    "pocty = data.reset_index().groupby('hodnota').agg(len)\n",
    "pocty.rename(columns={'index':'cetnost'},inplace=True)\n",
    "pocty.sort('cetnost',ascending=False).head()\n"
   ]
  },
  {
   "cell_type": "markdown",
   "metadata": {},
   "source": [
    "## Prehled"
   ]
  },
  {
   "cell_type": "code",
   "execution_count": 69,
   "metadata": {
    "collapsed": false
   },
   "outputs": [
    {
     "name": "stdout",
     "output_type": "stream",
     "text": [
      "Celkem bylo tipnuto 861 unikatnich hodnot\n",
      "----------------------------------------\n",
      "498 ruznych hodnot bylo tipnuto prave 1x\n",
      "184 ruznych hodnot bylo tipnuto prave 2x\n",
      "68 ruznych hodnot bylo tipnuto prave 3x\n",
      "---------------------------------------\n",
      "363 ruznych hodnot bylo tipnuto aspon 2x\n",
      "70 ruznych hodnot bylo tipnuto aspon 5x\n"
     ]
    }
   ],
   "source": [
    "print \"Celkem bylo tipnuto {} unikatnich hodnot\".format(len(pocty))\n",
    "print \"----------------------------------------\"\n",
    "print \"{} ruznych hodnot bylo tipnuto prave 1x\".format(len(pocty[pocty.cetnost == 1]))\n",
    "print \"{} ruznych hodnot bylo tipnuto prave 2x\".format(len(pocty[pocty.cetnost == 2]))\n",
    "print \"{} ruznych hodnot bylo tipnuto prave 3x\".format(len(pocty[pocty.cetnost == 3]))\n",
    "print \"---------------------------------------\"\n",
    "print \"{} ruznych hodnot bylo tipnuto aspon 2x\".format(len(pocty[pocty.cetnost > 1]))\n",
    "print \"{} ruznych hodnot bylo tipnuto aspon 5x\".format(len(pocty[pocty.cetnost > 4]))"
   ]
  },
  {
   "cell_type": "code",
   "execution_count": 66,
   "metadata": {
    "collapsed": false
   },
   "outputs": [
    {
     "data": {
      "text/html": [
       "<div>\n",
       "<table border=\"1\" class=\"dataframe\">\n",
       "  <thead>\n",
       "    <tr style=\"text-align: right;\">\n",
       "      <th></th>\n",
       "      <th>cetnost</th>\n",
       "    </tr>\n",
       "  </thead>\n",
       "  <tbody>\n",
       "    <tr>\n",
       "      <th>count</th>\n",
       "      <td>861.000000</td>\n",
       "    </tr>\n",
       "    <tr>\n",
       "      <th>mean</th>\n",
       "      <td>2.289199</td>\n",
       "    </tr>\n",
       "    <tr>\n",
       "      <th>std</th>\n",
       "      <td>3.344379</td>\n",
       "    </tr>\n",
       "    <tr>\n",
       "      <th>min</th>\n",
       "      <td>1.000000</td>\n",
       "    </tr>\n",
       "    <tr>\n",
       "      <th>25%</th>\n",
       "      <td>1.000000</td>\n",
       "    </tr>\n",
       "    <tr>\n",
       "      <th>50%</th>\n",
       "      <td>1.000000</td>\n",
       "    </tr>\n",
       "    <tr>\n",
       "      <th>75%</th>\n",
       "      <td>2.000000</td>\n",
       "    </tr>\n",
       "    <tr>\n",
       "      <th>max</th>\n",
       "      <td>40.000000</td>\n",
       "    </tr>\n",
       "  </tbody>\n",
       "</table>\n",
       "</div>"
      ],
      "text/plain": [
       "          cetnost\n",
       "count  861.000000\n",
       "mean     2.289199\n",
       "std      3.344379\n",
       "min      1.000000\n",
       "25%      1.000000\n",
       "50%      1.000000\n",
       "75%      2.000000\n",
       "max     40.000000"
      ]
     },
     "execution_count": 66,
     "metadata": {},
     "output_type": "execute_result"
    }
   ],
   "source": [
    "pocty.describe()"
   ]
  },
  {
   "cell_type": "markdown",
   "metadata": {},
   "source": [
    "## Hodne oblibene odpovedi (vice nez 5x), serazeno"
   ]
  },
  {
   "cell_type": "code",
   "execution_count": 93,
   "metadata": {
    "collapsed": false
   },
   "outputs": [
    {
     "data": {
      "image/png": "[encoded data removed]",
      "text/plain": [
       "<matplotlib.figure.Figure at 0x7fe6132c2190>"
      ]
     },
     "metadata": {},
     "output_type": "display_data"
    }
   ],
   "source": [
    "oblibene5 = pocty[pocty.cetnost >=5]\n",
    "oblibene5_plot = oblibene5.sort('cetnost',ascending=False).plot(kind='bar',figsize=(20,5),legend=False)\n",
    "oblibene5_plot.set_xlabel(\"Tipnuta hmotnost burgeru [g]\")\n",
    "oblibene5_plot.set_ylabel(\"Pocet odpovedi\")\n",
    "oblibene5_plot.set_title(\"Ktere hmotnosti byly tipnuty vice nez 5x?\");"
   ]
  },
  {
   "cell_type": "markdown",
   "metadata": {},
   "source": [
    "## Hodne oblibene odpovedi (vice nez 5x), neserazeno"
   ]
  },
  {
   "cell_type": "code",
   "execution_count": 94,
   "metadata": {
    "collapsed": false
   },
   "outputs": [
    {
     "data": {
      "image/png": "[encoded data removed]",
      "text/plain": [
       "<matplotlib.figure.Figure at 0x7fe612b9a6d0>"
      ]
     },
     "metadata": {},
     "output_type": "display_data"
    }
   ],
   "source": [
    "oblibene5_plot_sorted = oblibene5.plot(kind='bar',figsize=(20,5),legend=False)\n",
    "oblibene5_plot_sorted.set_xlabel(\"Tipnuta hmotnost burgeru [g]\")\n",
    "oblibene5_plot_sorted.set_ylabel(\"Pocet odpovedi\")\n",
    "oblibene5_plot_sorted.set_title(\"Ktere hmotnosti byly tipnuty vice nez 5x?\");"
   ]
  },
  {
   "cell_type": "markdown",
   "metadata": {},
   "source": [
    "## Presnost dat\n",
    "Tady se ukazuje, ze postup s takto jednoduchym regexem `r'\\d+'` ma svoje mouchy.  \n",
    "Hodnoty 1, a 15 puvodne byly pravdepodobne 1kg a 1.5kg, takze bych je mel bud  \n",
    "a) vyradit  \n",
    "b) vylepsit parsovaci funkci  "
   ]
  },
  {
   "cell_type": "markdown",
   "metadata": {},
   "source": [
    "# Co (mi) z toho vyplyva?\n",
    "- Lide tihnou k peknym kulatym cislum (750, 600, 800, 850, 900, 950, 1000, 1500,...) v situacich, kdy to nedava smysl. Leda bychom vedeli, ze kuchar byl puntickar a burger vazici 1512g je schopen obrat o platek salatu, aby vazil \"peknych\" 1500.\n",
    "- = Pokud bude tipovaci soutez kde vyhrat muze jenom jeden, tak je velmi pravdepodobne ze pekne kulate cislo uz nekdo tipnul, takze radeji hadejte neco jineho\n",
    "- **Organizatorum bych doporucil** ustanovit jednotny format odpovedi. Nevim jak to vyhodnocovali, ale verim ze kdyby zadali format xyzw g tak je to nejpresnejsi\n"
   ]
  },
  {
   "cell_type": "markdown",
   "metadata": {},
   "source": [
    "# Jaky byl spravny vysledek? Aneb vyjimka potvrzuje pravidlo?\n",
    "Spravna odpoved byla 1925 g, podle autoru nejblizsi odpoved byla 1926 g. Predpokladam, ze tip s hodnotou 1926 prisel drive nez 1924, a proto vyhral. Treba se tipsteri 1924 a 1926 ridili vyse uvedenym tvrzenim O:-) Docela tesne, ne? Ja sam jsem hadal 1694"
   ]
  },
  {
   "cell_type": "code",
   "execution_count": 90,
   "metadata": {
    "collapsed": false
   },
   "outputs": [
    {
     "data": {
      "text/html": [
       "<div>\n",
       "<table border=\"1\" class=\"dataframe\">\n",
       "  <thead>\n",
       "    <tr style=\"text-align: right;\">\n",
       "      <th></th>\n",
       "      <th>hodnota</th>\n",
       "    </tr>\n",
       "  </thead>\n",
       "  <tbody>\n",
       "    <tr>\n",
       "      <th>1000</th>\n",
       "      <td>1900</td>\n",
       "    </tr>\n",
       "    <tr>\n",
       "      <th>1001</th>\n",
       "      <td>1900</td>\n",
       "    </tr>\n",
       "    <tr>\n",
       "      <th>1002</th>\n",
       "      <td>1900</td>\n",
       "    </tr>\n",
       "    <tr>\n",
       "      <th>1003</th>\n",
       "      <td>1900</td>\n",
       "    </tr>\n",
       "    <tr>\n",
       "      <th>1004</th>\n",
       "      <td>1903</td>\n",
       "    </tr>\n",
       "    <tr>\n",
       "      <th>1005</th>\n",
       "      <td>1905</td>\n",
       "    </tr>\n",
       "    <tr>\n",
       "      <th>1006</th>\n",
       "      <td>1913</td>\n",
       "    </tr>\n",
       "    <tr>\n",
       "      <th>1007</th>\n",
       "      <td>1919</td>\n",
       "    </tr>\n",
       "    <tr>\n",
       "      <th>1008</th>\n",
       "      <td>1919</td>\n",
       "    </tr>\n",
       "    <tr>\n",
       "      <th>1009</th>\n",
       "      <td>1920</td>\n",
       "    </tr>\n",
       "    <tr>\n",
       "      <th>1010</th>\n",
       "      <td>1921</td>\n",
       "    </tr>\n",
       "    <tr>\n",
       "      <th>1011</th>\n",
       "      <td>1924</td>\n",
       "    </tr>\n",
       "    <tr>\n",
       "      <th>1012</th>\n",
       "      <td>1926</td>\n",
       "    </tr>\n",
       "    <tr>\n",
       "      <th>1013</th>\n",
       "      <td>1927</td>\n",
       "    </tr>\n",
       "    <tr>\n",
       "      <th>1014</th>\n",
       "      <td>1928</td>\n",
       "    </tr>\n",
       "    <tr>\n",
       "      <th>1015</th>\n",
       "      <td>1936</td>\n",
       "    </tr>\n",
       "    <tr>\n",
       "      <th>1016</th>\n",
       "      <td>1941</td>\n",
       "    </tr>\n",
       "    <tr>\n",
       "      <th>1017</th>\n",
       "      <td>1945</td>\n",
       "    </tr>\n",
       "    <tr>\n",
       "      <th>1018</th>\n",
       "      <td>1947</td>\n",
       "    </tr>\n",
       "    <tr>\n",
       "      <th>1019</th>\n",
       "      <td>1948</td>\n",
       "    </tr>\n",
       "    <tr>\n",
       "      <th>1020</th>\n",
       "      <td>1949</td>\n",
       "    </tr>\n",
       "    <tr>\n",
       "      <th>1021</th>\n",
       "      <td>1949</td>\n",
       "    </tr>\n",
       "    <tr>\n",
       "      <th>1022</th>\n",
       "      <td>1950</td>\n",
       "    </tr>\n",
       "    <tr>\n",
       "      <th>1023</th>\n",
       "      <td>1950</td>\n",
       "    </tr>\n",
       "    <tr>\n",
       "      <th>1024</th>\n",
       "      <td>1950</td>\n",
       "    </tr>\n",
       "    <tr>\n",
       "      <th>1025</th>\n",
       "      <td>1950</td>\n",
       "    </tr>\n",
       "    <tr>\n",
       "      <th>1026</th>\n",
       "      <td>1950</td>\n",
       "    </tr>\n",
       "  </tbody>\n",
       "</table>\n",
       "</div>"
      ],
      "text/plain": [
       "      hodnota\n",
       "1000     1900\n",
       "1001     1900\n",
       "1002     1900\n",
       "1003     1900\n",
       "1004     1903\n",
       "1005     1905\n",
       "1006     1913\n",
       "1007     1919\n",
       "1008     1919\n",
       "1009     1920\n",
       "1010     1921\n",
       "1011     1924\n",
       "1012     1926\n",
       "1013     1927\n",
       "1014     1928\n",
       "1015     1936\n",
       "1016     1941\n",
       "1017     1945\n",
       "1018     1947\n",
       "1019     1948\n",
       "1020     1949\n",
       "1021     1949\n",
       "1022     1950\n",
       "1023     1950\n",
       "1024     1950\n",
       "1025     1950\n",
       "1026     1950"
      ]
     },
     "execution_count": 90,
     "metadata": {},
     "output_type": "execute_result"
    }
   ],
   "source": [
    "data[(data.hodnota >= 1900) & (data.hodnota <=1950)]"
   ]
  },
  {
   "cell_type": "markdown",
   "metadata": {},
   "source": [
    "# Jak jeste vice zpresnit odhad?\n",
    "Zkousel jsem googlit \"Average burger density\", \"bigmac density\" atp, ze bych z fotky odhadnul jake ma tento burger rozmery a z toho vypocital hmotnost. Bohuzel (bohudik? mozna bych odhadoval jeste doted) jsem nenasel :(\n"
   ]
  },
  {
   "cell_type": "code",
   "execution_count": null,
   "metadata": {
    "collapsed": true
   },
   "outputs": [],
   "source": []
  }
 ],
 "metadata": {
  "kernelspec": {
   "display_name": "Python 2",
   "language": "python",
   "name": "python2"
  },
  "language_info": {
   "codemirror_mode": {
    "name": "ipython",
    "version": 2
   },
   "file_extension": ".py",
   "mimetype": "text/x-python",
   "name": "python",
   "nbconvert_exporter": "python",
   "pygments_lexer": "ipython2",
   "version": "2.7.9"
  }
 },
 "nbformat": 4,
 "nbformat_minor": 0
}
